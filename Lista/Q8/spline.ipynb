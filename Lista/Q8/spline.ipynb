{
 "cells": [
  {
   "cell_type": "code",
   "execution_count": 23,
   "metadata": {},
   "outputs": [],
   "source": [
    "import pandas as pd\n",
    "import numpy as np\n",
    "import matplotlib.pyplot as plt\n",
    "\n",
    "df = pd.read_csv(\"coef.csv\")\n"
   ]
  },
  {
   "cell_type": "code",
   "execution_count": 24,
   "metadata": {},
   "outputs": [],
   "source": [
    "coeficientes = np.array(20)\n",
    "coeficientes = df['valores']"
   ]
  },
  {
   "cell_type": "code",
   "execution_count": 37,
   "metadata": {},
   "outputs": [],
   "source": [
    "def f(x, coef):\n",
    "    if x >= 0.5 and x < 1:\n",
    "        return coef[0] + coef[1]*x + coef[2]*x**2 + coef[3]*x**3\n",
    "    elif x >= 1 and x < 1.5:\n",
    "        return coef[4] + coef[5]*x + coef[6]*x**2 + coef[7]*x**3\n",
    "    elif x>=1.5 and x < 2.0:\n",
    "        return coef[8] + coef[9]*x + coef[10]*x**2 + coef[11]*x**3\n",
    "    elif x >=2.0 and x <2.5:\n",
    "        return coef[12] + coef[13]*x + coef[14]*x**2 + coef[15]*x**3\n",
    "    elif x>=2.5 and x <=3.0:\n",
    "        return coef[16] + coef[17]*x + coef[18]*x**2 + coef[19]*x**3\n",
    "    else:\n",
    "        raise Exception(\"Esse valor de x={} não está definido\".format(x))\n",
    "\n"
   ]
  },
  {
   "cell_type": "code",
   "execution_count": 42,
   "metadata": {},
   "outputs": [
    {
     "data": {
      "image/png": "[encoded data removed]",
      "text/plain": [
       "<Figure size 432x288 with 1 Axes>"
      ]
     },
     "metadata": {
      "needs_background": "light"
     },
     "output_type": "display_data"
    }
   ],
   "source": [
    "x_1 = np.arange(0.5, 3, 0.001)\n",
    "y_1 = np.array([f(i, coeficientes) for i in x_1])\n",
    "\n",
    "x_2 = [0.5, 1, 1.5, 2, 2.5, 3]\n",
    "y_2 = [1.62, 1, 0.75, 0.62, 0.52, 0.46]\n",
    "\n",
    "plt.plot(x_1,y_1, '--')\n",
    "plt.plot(x_2,y_2, 'o')\n",
    "plt.legend(['spline','dados'])\n",
    "plt.show()"
   ]
  },
  {
   "cell_type": "code",
   "execution_count": 32,
   "metadata": {},
   "outputs": [
    {
     "data": {
      "text/html": [
       "<div>\n",
       "<style scoped>\n",
       "    .dataframe tbody tr th:only-of-type {\n",
       "        vertical-align: middle;\n",
       "    }\n",
       "\n",
       "    .dataframe tbody tr th {\n",
       "        vertical-align: top;\n",
       "    }\n",
       "\n",
       "    .dataframe thead th {\n",
       "        text-align: right;\n",
       "    }\n",
       "</style>\n",
       "<table border=\"1\" class=\"dataframe\">\n",
       "  <thead>\n",
       "    <tr style=\"text-align: right;\">\n",
       "      <th></th>\n",
       "      <th>coeficientes</th>\n",
       "      <th>valores</th>\n",
       "    </tr>\n",
       "  </thead>\n",
       "  <tbody>\n",
       "    <tr>\n",
       "      <th>0</th>\n",
       "      <td>a0</td>\n",
       "      <td>2.240000</td>\n",
       "    </tr>\n",
       "    <tr>\n",
       "      <th>1</th>\n",
       "      <td>b0</td>\n",
       "      <td>-0.876364</td>\n",
       "    </tr>\n",
       "    <tr>\n",
       "      <th>2</th>\n",
       "      <td>c0</td>\n",
       "      <td>-1.090909</td>\n",
       "    </tr>\n",
       "    <tr>\n",
       "      <th>3</th>\n",
       "      <td>d0</td>\n",
       "      <td>0.727273</td>\n",
       "    </tr>\n",
       "    <tr>\n",
       "      <th>4</th>\n",
       "      <td>a1</td>\n",
       "      <td>3.643636</td>\n",
       "    </tr>\n",
       "    <tr>\n",
       "      <th>5</th>\n",
       "      <td>b1</td>\n",
       "      <td>-5.087273</td>\n",
       "    </tr>\n",
       "    <tr>\n",
       "      <th>6</th>\n",
       "      <td>c1</td>\n",
       "      <td>3.120000</td>\n",
       "    </tr>\n",
       "    <tr>\n",
       "      <th>7</th>\n",
       "      <td>d1</td>\n",
       "      <td>-0.676364</td>\n",
       "    </tr>\n",
       "    <tr>\n",
       "      <th>8</th>\n",
       "      <td>a2</td>\n",
       "      <td>1.434545</td>\n",
       "    </tr>\n",
       "    <tr>\n",
       "      <th>9</th>\n",
       "      <td>b2</td>\n",
       "      <td>-0.669091</td>\n",
       "    </tr>\n",
       "    <tr>\n",
       "      <th>10</th>\n",
       "      <td>c2</td>\n",
       "      <td>0.174545</td>\n",
       "    </tr>\n",
       "    <tr>\n",
       "      <th>11</th>\n",
       "      <td>d2</td>\n",
       "      <td>-0.021818</td>\n",
       "    </tr>\n",
       "    <tr>\n",
       "      <th>12</th>\n",
       "      <td>a3</td>\n",
       "      <td>0.910909</td>\n",
       "    </tr>\n",
       "    <tr>\n",
       "      <th>13</th>\n",
       "      <td>b3</td>\n",
       "      <td>0.116364</td>\n",
       "    </tr>\n",
       "    <tr>\n",
       "      <th>14</th>\n",
       "      <td>c3</td>\n",
       "      <td>-0.218182</td>\n",
       "    </tr>\n",
       "    <tr>\n",
       "      <th>15</th>\n",
       "      <td>d3</td>\n",
       "      <td>0.043636</td>\n",
       "    </tr>\n",
       "    <tr>\n",
       "      <th>16</th>\n",
       "      <td>a4</td>\n",
       "      <td>2.729091</td>\n",
       "    </tr>\n",
       "    <tr>\n",
       "      <th>17</th>\n",
       "      <td>b4</td>\n",
       "      <td>-2.065455</td>\n",
       "    </tr>\n",
       "    <tr>\n",
       "      <th>18</th>\n",
       "      <td>c4</td>\n",
       "      <td>0.654545</td>\n",
       "    </tr>\n",
       "    <tr>\n",
       "      <th>19</th>\n",
       "      <td>d4</td>\n",
       "      <td>-0.072727</td>\n",
       "    </tr>\n",
       "  </tbody>\n",
       "</table>\n",
       "</div>"
      ],
      "text/plain": [
       "   coeficientes   valores\n",
       "0            a0  2.240000\n",
       "1            b0 -0.876364\n",
       "2            c0 -1.090909\n",
       "3            d0  0.727273\n",
       "4            a1  3.643636\n",
       "5            b1 -5.087273\n",
       "6            c1  3.120000\n",
       "7            d1 -0.676364\n",
       "8            a2  1.434545\n",
       "9            b2 -0.669091\n",
       "10           c2  0.174545\n",
       "11           d2 -0.021818\n",
       "12           a3  0.910909\n",
       "13           b3  0.116364\n",
       "14           c3 -0.218182\n",
       "15           d3  0.043636\n",
       "16           a4  2.729091\n",
       "17           b4 -2.065455\n",
       "18           c4  0.654545\n",
       "19           d4 -0.072727"
      ]
     },
     "execution_count": 32,
     "metadata": {},
     "output_type": "execute_result"
    }
   ],
   "source": [
    "df"
   ]
  },
  {
   "cell_type": "code",
   "execution_count": 36,
   "metadata": {},
   "outputs": [
    {
     "data": {
      "text/plain": [
       "0     2.240000\n",
       "1    -0.876364\n",
       "2    -1.090909\n",
       "3     0.727273\n",
       "4     3.643636\n",
       "5    -5.087273\n",
       "6     3.120000\n",
       "7    -0.676364\n",
       "8     1.434545\n",
       "9    -0.669091\n",
       "10    0.174545\n",
       "11   -0.021818\n",
       "12    0.910909\n",
       "13    0.116364\n",
       "14   -0.218182\n",
       "15    0.043636\n",
       "16    2.729091\n",
       "17   -2.065455\n",
       "18    0.654545\n",
       "19   -0.072727\n",
       "Name: valores, dtype: float64"
      ]
     },
     "execution_count": 36,
     "metadata": {},
     "output_type": "execute_result"
    }
   ],
   "source": [
    "coeficientes"
   ]
  },
  {
   "cell_type": "code",
   "execution_count": null,
   "metadata": {},
   "outputs": [],
   "source": []
  }
 ],
 "metadata": {
  "kernelspec": {
   "display_name": "Python 3",
   "language": "python",
   "name": "python3"
  },
  "language_info": {
   "codemirror_mode": {
    "name": "ipython",
    "version": 3
   },
   "file_extension": ".py",
   "mimetype": "text/x-python",
   "name": "python",
   "nbconvert_exporter": "python",
   "pygments_lexer": "ipython3",
   "version": "3.7.7"
  }
 },
 "nbformat": 4,
 "nbformat_minor": 4
}
