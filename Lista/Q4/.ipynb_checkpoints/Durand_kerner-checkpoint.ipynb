{
 "cells": [
  {
   "cell_type": "code",
   "execution_count": 20,
   "metadata": {},
   "outputs": [],
   "source": [
    "import numpy as np\n",
    "import matplotlib.pyplot as plt\n",
    "import pandas as pd\n",
    "\n",
    "def f(z):\n",
    "    \"\"\"Sample function for root finding.\"\"\"\n",
    "    func = []\n",
    "    for i in range(len(z)):\n",
    "        func.append(z[i]**3 - 3*z[i]**2 + 3*z[i] - 5)\n",
    "    return func\n",
    "\n",
    "p, q, r = 1 + 0*1j, 0.4 + 0.9j, -0.65 + 0.72j \n",
    "raizes = [p, q, r]\n",
    "\n",
    "\n",
    "# def denominador(raizes):\n",
    "#     raizes_aux = raizes\n",
    "#     n = len(raizes)\n",
    "#     denominador = []\n",
    "#     for i in range(n):\n",
    "#         for j in range(n):\n",
    "#             if raizes[i] != raizes_aux[j]:\n",
    "#                 denominador.append(raizes[i]-raizes_aux[j])\n",
    "                \n",
    "#     return denominador\n",
    "    \n",
    "\n",
    "# def durand_kerner(raizes, func, denominador):\n",
    "    \n",
    "#     raizes_i = raizes - func(raizes) / denominador\n",
    "#     return raizes_i\n",
    "\n",
    "# p, q, r = 1 + 0*1j, 0.4 + 0.9j, -0.65 + 0.72j \n",
    "# raizes = [p, q, r]\n",
    "\n",
    "# vals = [(p, q, r)]  \n",
    "# for _ in range(6):\n",
    "#     p, q, r = durand_kerner(raizes, f, denominador(raizes))\n",
    "#     vals.append((p, q, r))\n"
   ]
  },
  {
   "cell_type": "code",
   "execution_count": 21,
   "metadata": {},
   "outputs": [],
   "source": [
    "import numpy as np\n",
    "import matplotlib.pyplot as plt\n",
    "import pandas as pd\n",
    "\n",
    "def f(z):\n",
    "    \"\"\"Sample function for root finding.\"\"\"\n",
    "    func = []\n",
    "    for i in range(len(z)):\n",
    "        func.append(z[i]**3 - 3*z[i]**2 + 3*z[i] - 5)\n",
    "    return func\n",
    "\n",
    "p, q, r = 1 + 0*1j, 0.4 + 0.9j, -0.65 + 0.72j \n",
    "raizes = [p, q, r]"
   ]
  },
  {
   "cell_type": "code",
   "execution_count": 25,
   "metadata": {},
   "outputs": [
    {
     "ename": "TypeError",
     "evalue": "unsupported operand type(s) for -: 'list' and 'list'",
     "output_type": "error",
     "traceback": [
      "\u001b[0;31m---------------------------------------------------------------------------\u001b[0m",
      "\u001b[0;31mTypeError\u001b[0m                                 Traceback (most recent call last)",
      "\u001b[0;32m<ipython-input-25-6f5c7e2d39ef>\u001b[0m in \u001b[0;36m<module>\u001b[0;34m\u001b[0m\n\u001b[1;32m      1\u001b[0m \u001b[0mraizes_i\u001b[0m \u001b[0;34m=\u001b[0m \u001b[0;34m[\u001b[0m\u001b[0;34m]\u001b[0m\u001b[0;34m\u001b[0m\u001b[0;34m\u001b[0m\u001b[0m\n\u001b[0;32m----> 2\u001b[0;31m \u001b[0mraizes_i\u001b[0m\u001b[0;34m.\u001b[0m\u001b[0mappend\u001b[0m\u001b[0;34m(\u001b[0m\u001b[0mraizes\u001b[0m \u001b[0;34m-\u001b[0m \u001b[0mf\u001b[0m\u001b[0;34m(\u001b[0m\u001b[0mraizes\u001b[0m\u001b[0;34m)\u001b[0m\u001b[0;34m)\u001b[0m\u001b[0;34m\u001b[0m\u001b[0;34m\u001b[0m\u001b[0m\n\u001b[0m",
      "\u001b[0;31mTypeError\u001b[0m: unsupported operand type(s) for -: 'list' and 'list'"
     ]
    }
   ],
   "source": [
    "raizes_i = []\n",
    "\n",
    "for i in range(len(raizes))\n",
    "    raizes_i.append(raizes[i] - f(raizes[i]))"
   ]
  },
  {
   "cell_type": "code",
   "execution_count": null,
   "metadata": {},
   "outputs": [],
   "source": []
  },
  {
   "cell_type": "code",
   "execution_count": 2,
   "metadata": {},
   "outputs": [
    {
     "data": {
      "text/html": [
       "<div>\n",
       "<style scoped>\n",
       "    .dataframe tbody tr th:only-of-type {\n",
       "        vertical-align: middle;\n",
       "    }\n",
       "\n",
       "    .dataframe tbody tr th {\n",
       "        vertical-align: top;\n",
       "    }\n",
       "\n",
       "    .dataframe thead th {\n",
       "        text-align: right;\n",
       "    }\n",
       "</style>\n",
       "<table border=\"1\" class=\"dataframe\">\n",
       "  <thead>\n",
       "    <tr style=\"text-align: right;\">\n",
       "      <th></th>\n",
       "      <th>p</th>\n",
       "      <th>q</th>\n",
       "      <th>r</th>\n",
       "    </tr>\n",
       "  </thead>\n",
       "  <tbody>\n",
       "    <tr>\n",
       "      <th>0</th>\n",
       "      <td>1.000000+0.000000j</td>\n",
       "      <td>0.400000+0.900000j</td>\n",
       "      <td>-0.650000+0.720000j</td>\n",
       "    </tr>\n",
       "    <tr>\n",
       "      <th>1</th>\n",
       "      <td>1.360773+2.022230j</td>\n",
       "      <td>-1.398213-0.693566j</td>\n",
       "      <td>3.037440-1.328664j</td>\n",
       "    </tr>\n",
       "    <tr>\n",
       "      <th>2</th>\n",
       "      <td>0.980963+1.347463j</td>\n",
       "      <td>-0.335252-0.644069j</td>\n",
       "      <td>2.354289-0.703394j</td>\n",
       "    </tr>\n",
       "    <tr>\n",
       "      <th>3</th>\n",
       "      <td>0.317181+0.936495j</td>\n",
       "      <td>0.490016-0.966141j</td>\n",
       "      <td>2.192804+0.029647j</td>\n",
       "    </tr>\n",
       "    <tr>\n",
       "      <th>4</th>\n",
       "      <td>0.209016+1.572742j</td>\n",
       "      <td>0.041206-1.527519j</td>\n",
       "      <td>2.749778-0.045223j</td>\n",
       "    </tr>\n",
       "    <tr>\n",
       "      <th>5</th>\n",
       "      <td>0.212971+1.394827j</td>\n",
       "      <td>0.184678-1.384565j</td>\n",
       "      <td>2.602351-0.010262j</td>\n",
       "    </tr>\n",
       "    <tr>\n",
       "      <th>6</th>\n",
       "      <td>0.206531+1.374879j</td>\n",
       "      <td>0.206001-1.374653j</td>\n",
       "      <td>2.587468-0.000226j</td>\n",
       "    </tr>\n",
       "  </tbody>\n",
       "</table>\n",
       "</div>"
      ],
      "text/plain": [
       "                    p                   q                   r\n",
       "0  1.000000+0.000000j  0.400000+0.900000j -0.650000+0.720000j\n",
       "1  1.360773+2.022230j -1.398213-0.693566j  3.037440-1.328664j\n",
       "2  0.980963+1.347463j -0.335252-0.644069j  2.354289-0.703394j\n",
       "3  0.317181+0.936495j  0.490016-0.966141j  2.192804+0.029647j\n",
       "4  0.209016+1.572742j  0.041206-1.527519j  2.749778-0.045223j\n",
       "5  0.212971+1.394827j  0.184678-1.384565j  2.602351-0.010262j\n",
       "6  0.206531+1.374879j  0.206001-1.374653j  2.587468-0.000226j"
      ]
     },
     "execution_count": 2,
     "metadata": {},
     "output_type": "execute_result"
    }
   ],
   "source": [
    "pd.DataFrame(vals, columns=['p', 'q', 'r'])"
   ]
  },
  {
   "cell_type": "code",
   "execution_count": 13,
   "metadata": {},
   "outputs": [],
   "source": [
    "ok = []"
   ]
  },
  {
   "cell_type": "code",
   "execution_count": 14,
   "metadata": {},
   "outputs": [],
   "source": [
    "ok.append(9)"
   ]
  },
  {
   "cell_type": "code",
   "execution_count": 16,
   "metadata": {},
   "outputs": [],
   "source": [
    "ok.append(10)"
   ]
  },
  {
   "cell_type": "code",
   "execution_count": 17,
   "metadata": {},
   "outputs": [
    {
     "data": {
      "text/plain": [
       "[9, 10]"
      ]
     },
     "execution_count": 17,
     "metadata": {},
     "output_type": "execute_result"
    }
   ],
   "source": [
    "ok"
   ]
  },
  {
   "cell_type": "code",
   "execution_count": null,
   "metadata": {},
   "outputs": [],
   "source": []
  }
 ],
 "metadata": {
  "kernelspec": {
   "display_name": "Python 3",
   "language": "python",
   "name": "python3"
  },
  "language_info": {
   "codemirror_mode": {
    "name": "ipython",
    "version": 3
   },
   "file_extension": ".py",
   "mimetype": "text/x-python",
   "name": "python",
   "nbconvert_exporter": "python",
   "pygments_lexer": "ipython3",
   "version": "3.7.7"
  }
 },
 "nbformat": 4,
 "nbformat_minor": 4
}
