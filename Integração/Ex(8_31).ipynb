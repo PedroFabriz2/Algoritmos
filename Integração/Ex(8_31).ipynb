{
  "nbformat": 4,
  "nbformat_minor": 0,
  "metadata": {
    "colab": {
      "name": "Ex(8.31).ipynb",
      "provenance": []
    },
    "kernelspec": {
      "name": "python3",
      "display_name": "Python 3"
    }
  },
  "cells": [
    {
      "cell_type": "code",
      "metadata": {
        "id": "9eGNwhtMFO53",
        "colab_type": "code",
        "colab": {}
      },
      "source": [
        "import sympy\n",
        "import numpy as np\n",
        "import matplotlib.pyplot as plt\n",
        "from scipy import optimize"
      ],
      "execution_count": 0,
      "outputs": []
    },
    {
      "cell_type": "code",
      "metadata": {
        "id": "hVjz5wD0fzS7",
        "colab_type": "code",
        "colab": {}
      },
      "source": [
        "F, q, Q, x, a, e = sympy.symbols([\"F\", \"q\", \"Q\", \"x\", \"a\", \"e\"])\n",
        "\n",
        "expr1 = 1/(4*sympy.pi*e)\n",
        "expr2 = q*Q*x/((x**2 + a**2)**1.5)\n",
        "function = expr1*expr2 - F\n",
        "\n",
        "values = {F: 1.25, q: 2*10**-5, Q: 2*10**-5, a: 0.9, e: 8.85*10**-12}\n",
        "function = function.subs(values)\n",
        "\n",
        "f = lambda y: sympy.lambdify(x, function, 'numpy')(y)\n",
        "fp = lambda y: sympy.lambdify(x, sympy.diff(function, x), 'numpy')(y)\n"
      ],
      "execution_count": 0,
      "outputs": []
    },
    {
      "cell_type": "code",
      "metadata": {
        "id": "srelArqxmLXP",
        "colab_type": "code",
        "colab": {
          "base_uri": "https://localhost:8080/",
          "height": 282
        },
        "outputId": "4962ca52-e5a0-4d92-d0c5-70e78cb984e8"
      },
      "source": [
        "X = np.linspace(-5, 5, 800)\n",
        "fig, ax = plt.subplots(1, 1, figsize=(12,4))\n",
        "\n",
        "ax.plot(X, f(X))\n",
        "ax.axhline(0, ls=':', color='k')\n",
        "\n",
        "tol = 0.01\n",
        "x_inicial = 0.5\n",
        "n = 0\n",
        "\n",
        "while abs(f(x_inicial)) > tol:\n",
        "    x_new = x_inicial - f(x_inicial) / fp(x_inicial)\n",
        "\n",
        "    ax.plot([x_inicial, x_inicial], [0, f(x_inicial)], color='k', ls=':')\n",
        "    ax.plot(x_inicial, f(x_inicial), 'ko')\n",
        "    ax.text(x_inicial, -.5, r'$x_%d$' % n, ha='center')\n",
        "    ax.plot([x_inicial, x_new], [f(x_inicial), 0], 'k-')\n",
        "\n",
        "    x_inicial = x_new\n",
        "    n += 1\n",
        "\n",
        "ax.plot(x_inicial, f(x_inicial), 'r*', markersize=15)"
      ],
      "execution_count": 29,
      "outputs": [
        {
          "output_type": "execute_result",
          "data": {
            "text/plain": [
              "[<matplotlib.lines.Line2D at 0x7faf3e43bda0>]"
            ]
          },
          "metadata": {
            "tags": []
          },
          "execution_count": 29
        },
        {
          "output_type": "display_data",
          "data": {
            "image/png": "[encoded data removed]",
            "text/plain": [
              "<Figure size 864x288 with 1 Axes>"
            ]
          },
          "metadata": {
            "tags": [],
            "needs_background": "light"
          }
        }
      ]
    },
    {
      "cell_type": "markdown",
      "metadata": {
        "id": "7xABE_eUj0mb",
        "colab_type": "text"
      },
      "source": [
        "<p align=\"center\"><img src=\"images/eletromag.png\" align=middle width=430pt height=430pt/></p>"
      ]
    },
    {
      "cell_type": "markdown",
      "metadata": {
        "id": "FQmwy2SJdYEf",
        "colab_type": "text"
      },
      "source": [
        ""
      ]
    }
  ]
}